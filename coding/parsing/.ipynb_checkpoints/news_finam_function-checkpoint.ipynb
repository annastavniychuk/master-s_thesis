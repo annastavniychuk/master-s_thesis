{
 "cells": [
  {
   "cell_type": "markdown",
   "metadata": {},
   "source": [
    "### Библиотеки"
   ]
  },
  {
   "cell_type": "code",
   "execution_count": 1,
   "metadata": {},
   "outputs": [],
   "source": [
    "import requests\n",
    "from bs4 import BeautifulSoup as bs\n",
    "import pandas as pd \n",
    "from time import sleep"
   ]
  },
  {
   "cell_type": "markdown",
   "metadata": {},
   "source": [
    "---"
   ]
  },
  {
   "cell_type": "markdown",
   "metadata": {},
   "source": [
    "### Функция-парсер"
   ]
  },
  {
   "cell_type": "code",
   "execution_count": 60,
   "metadata": {},
   "outputs": [],
   "source": [
    "def news_parser(company, start_date, end_date): # вводить всё строками!\n",
    "    template_url = 'https://www.finam.ru/profile/moex-akcii/'\n",
    "    page = '1'\n",
    "    url = template_url + company + '/news/?start-date=' + start_date + '&end-date=' + end_date + '&page=1'\n",
    "    base_url = template_url + company + '/news/' # чтобы запихнуть в requests\n",
    "\n",
    "    resp = requests.get(base_url, \n",
    "                    params={'start-date': start_date,\n",
    "                            'end-date': end_date,\n",
    "                            'page': page})\n",
    "    soup = bs(resp.text)\n",
    "    pages = soup.find('div', {'class': 'pager'}).find_all('li')[-2].text.split('...')[-1]\n",
    "    \n",
    "    news = []\n",
    "    for i in range(1,int(pages)+1):\n",
    "        print('start page', i, end='\\r')\n",
    "        resp = requests.get(base_url, \n",
    "                            params={'start-date': start_date,\n",
    "                                    'end-date': end_date,\n",
    "                                    'page': i})\n",
    "        #print('status', resp.status_code)\n",
    "        soup = bs(resp.text)\n",
    "        news_set = soup.find('tbody', {'class': 'news'}).find_all('tr')\n",
    "        for item in news_set:\n",
    "            date = item.find_all('td')[0].text\n",
    "            preview = item.find_all('td')[1].text\n",
    "            url = 'https://www.finam.ru' + item.find_all('td')[1].find('a').attrs['href']\n",
    "            news.append({\n",
    "                'preview_date': date,\n",
    "                'preview': preview,\n",
    "                'url': url,\n",
    "                'company': company}) \n",
    "        sleep(1)\n",
    "    \n",
    "    for item in news:\n",
    "        print('start news', news.index(item), end='\\r')\n",
    "        resp = requests.get(item['url'])\n",
    "        soup = bs(resp.text)\n",
    "        article_time = soup.find('div', {'class': 'sm lightgrey mb05 mt15'}).text[11:-18]\n",
    "        article_date = soup.find('div', {'class': 'sm lightgrey mb05 mt15'}).text[:-24]\n",
    "        item.update({'article_time': article_time,\n",
    "                     'article_date': article_date})\n",
    "    return news"
   ]
  },
  {
   "cell_type": "markdown",
   "metadata": {},
   "source": [
    "---"
   ]
  },
  {
   "cell_type": "markdown",
   "metadata": {},
   "source": [
    "### Собираем датасет"
   ]
  },
  {
   "cell_type": "markdown",
   "metadata": {},
   "source": [
    "Роснефть"
   ]
  },
  {
   "cell_type": "code",
   "execution_count": 61,
   "metadata": {},
   "outputs": [
    {
     "name": "stdout",
     "output_type": "stream",
     "text": [
      "start news 2442 1359\r"
     ]
    }
   ],
   "source": [
    "table = news_parser(company='rosneft', start_date='2012-01-01', end_date='2021-08-14')"
   ]
  },
  {
   "cell_type": "markdown",
   "metadata": {},
   "source": [
    "Башнефть https://www.finam.ru/profile/moex-akcii/bashneft-ank-ao/news/"
   ]
  },
  {
   "cell_type": "markdown",
   "metadata": {},
   "source": [
    "Газпром нефть https://www.finam.ru/profile/moex-akcii/gazprom-neft/news/"
   ]
  },
  {
   "cell_type": "markdown",
   "metadata": {},
   "source": [
    "Лукойл https://www.finam.ru/profile/moex-akcii/lukoil/news/"
   ]
  },
  {
   "cell_type": "markdown",
   "metadata": {},
   "source": [
    "Татнефть https://www.finam.ru/profile/moex-akcii/tatneft-3/news/"
   ]
  },
  {
   "cell_type": "markdown",
   "metadata": {},
   "source": [
    "ТНК-ВР"
   ]
  },
  {
   "cell_type": "code",
   "execution_count": 62,
   "metadata": {},
   "outputs": [
    {
     "data": {
      "text/html": [
       "<div>\n",
       "<style scoped>\n",
       "    .dataframe tbody tr th:only-of-type {\n",
       "        vertical-align: middle;\n",
       "    }\n",
       "\n",
       "    .dataframe tbody tr th {\n",
       "        vertical-align: top;\n",
       "    }\n",
       "\n",
       "    .dataframe thead th {\n",
       "        text-align: right;\n",
       "    }\n",
       "</style>\n",
       "<table border=\"1\" class=\"dataframe\">\n",
       "  <thead>\n",
       "    <tr style=\"text-align: right;\">\n",
       "      <th></th>\n",
       "      <th>preview_date</th>\n",
       "      <th>preview</th>\n",
       "      <th>url</th>\n",
       "      <th>company</th>\n",
       "      <th>article_time</th>\n",
       "      <th>article_date</th>\n",
       "    </tr>\n",
       "  </thead>\n",
       "  <tbody>\n",
       "    <tr>\n",
       "      <th>0</th>\n",
       "      <td>13.08.2021</td>\n",
       "      <td>Чистая прибыль \"Роснефти\" по РСБУ за 1 полугод...</td>\n",
       "      <td>https://www.finam.ru/analysis/newsitem/chistay...</td>\n",
       "      <td>rosneft</td>\n",
       "      <td>20:55</td>\n",
       "      <td>13.08.2021</td>\n",
       "    </tr>\n",
       "    <tr>\n",
       "      <th>1</th>\n",
       "      <td>13.08.2021</td>\n",
       "      <td>Совет директоров \"Роснефти\" в ближайшее время ...</td>\n",
       "      <td>https://www.finam.ru/analysis/newsitem/sovet-d...</td>\n",
       "      <td>rosneft</td>\n",
       "      <td>19:44</td>\n",
       "      <td>13.08.2021</td>\n",
       "    </tr>\n",
       "    <tr>\n",
       "      <th>2</th>\n",
       "      <td>13.08.2021</td>\n",
       "      <td>Индексу МосБиржи не удается взять штурмом уров...</td>\n",
       "      <td>https://www.finam.ru/analysis/newsitem/indeksu...</td>\n",
       "      <td>rosneft</td>\n",
       "      <td>15:11</td>\n",
       "      <td>13.08.2021</td>\n",
       "    </tr>\n",
       "    <tr>\n",
       "      <th>3</th>\n",
       "      <td>13.08.2021</td>\n",
       "      <td>\"Роснефть\" на конец 2 квартала строит 6 скважи...</td>\n",
       "      <td>https://www.finam.ru/analysis/newsitem/rosneft...</td>\n",
       "      <td>rosneft</td>\n",
       "      <td>10:57</td>\n",
       "      <td>13.08.2021</td>\n",
       "    </tr>\n",
       "    <tr>\n",
       "      <th>4</th>\n",
       "      <td>13.08.2021</td>\n",
       "      <td>\"Роснефть\" увеличила добычу нефти и конденсата...</td>\n",
       "      <td>https://www.finam.ru/analysis/newsitem/rosneft...</td>\n",
       "      <td>rosneft</td>\n",
       "      <td>10:50</td>\n",
       "      <td>13.08.2021</td>\n",
       "    </tr>\n",
       "    <tr>\n",
       "      <th>...</th>\n",
       "      <td>...</td>\n",
       "      <td>...</td>\n",
       "      <td>...</td>\n",
       "      <td>...</td>\n",
       "      <td>...</td>\n",
       "      <td>...</td>\n",
       "    </tr>\n",
       "    <tr>\n",
       "      <th>2438</th>\n",
       "      <td>27.01.2012</td>\n",
       "      <td>\"Газпром\" опустился в рейтинге публичных энерг...</td>\n",
       "      <td>https://www.finam.ru/analysis/newsitem6352F/</td>\n",
       "      <td>rosneft</td>\n",
       "      <td>13:12</td>\n",
       "      <td>27.01.2012</td>\n",
       "    </tr>\n",
       "    <tr>\n",
       "      <th>2439</th>\n",
       "      <td>26.01.2012</td>\n",
       "      <td>\"Роснефть\" будет участвовать в развитии ХК ЦСК...</td>\n",
       "      <td>https://www.finam.ru/analysis/newsitem63489/</td>\n",
       "      <td>rosneft</td>\n",
       "      <td>17:55</td>\n",
       "      <td>26.01.2012</td>\n",
       "    </tr>\n",
       "    <tr>\n",
       "      <th>2440</th>\n",
       "      <td>23.01.2012</td>\n",
       "      <td>FINAM расширяет возможности маржинальной торговли</td>\n",
       "      <td>https://www.finam.ru/analysis/newsitem631B9/</td>\n",
       "      <td>rosneft</td>\n",
       "      <td>13:15</td>\n",
       "      <td>23.01.2012</td>\n",
       "    </tr>\n",
       "    <tr>\n",
       "      <th>2441</th>\n",
       "      <td>23.01.2012</td>\n",
       "      <td>Доказанные запасы углеводородов \"Роснефти\" на ...</td>\n",
       "      <td>https://www.finam.ru/analysis/newsitem631AD/</td>\n",
       "      <td>rosneft</td>\n",
       "      <td>12:22</td>\n",
       "      <td>23.01.2012</td>\n",
       "    </tr>\n",
       "    <tr>\n",
       "      <th>2442</th>\n",
       "      <td>18.01.2012</td>\n",
       "      <td>\"Роснефть\" заплатит около 1 млрд рублей за пол...</td>\n",
       "      <td>https://www.finam.ru/analysis/newsitem62F78/</td>\n",
       "      <td>rosneft</td>\n",
       "      <td>19:16</td>\n",
       "      <td>18.01.2012</td>\n",
       "    </tr>\n",
       "  </tbody>\n",
       "</table>\n",
       "<p>2443 rows × 6 columns</p>\n",
       "</div>"
      ],
      "text/plain": [
       "     preview_date                                            preview  \\\n",
       "0      13.08.2021  Чистая прибыль \"Роснефти\" по РСБУ за 1 полугод...   \n",
       "1      13.08.2021  Совет директоров \"Роснефти\" в ближайшее время ...   \n",
       "2      13.08.2021  Индексу МосБиржи не удается взять штурмом уров...   \n",
       "3      13.08.2021  \"Роснефть\" на конец 2 квартала строит 6 скважи...   \n",
       "4      13.08.2021  \"Роснефть\" увеличила добычу нефти и конденсата...   \n",
       "...           ...                                                ...   \n",
       "2438   27.01.2012  \"Газпром\" опустился в рейтинге публичных энерг...   \n",
       "2439   26.01.2012  \"Роснефть\" будет участвовать в развитии ХК ЦСК...   \n",
       "2440   23.01.2012  FINAM расширяет возможности маржинальной торговли   \n",
       "2441   23.01.2012  Доказанные запасы углеводородов \"Роснефти\" на ...   \n",
       "2442   18.01.2012  \"Роснефть\" заплатит около 1 млрд рублей за пол...   \n",
       "\n",
       "                                                    url  company article_time  \\\n",
       "0     https://www.finam.ru/analysis/newsitem/chistay...  rosneft        20:55   \n",
       "1     https://www.finam.ru/analysis/newsitem/sovet-d...  rosneft        19:44   \n",
       "2     https://www.finam.ru/analysis/newsitem/indeksu...  rosneft        15:11   \n",
       "3     https://www.finam.ru/analysis/newsitem/rosneft...  rosneft        10:57   \n",
       "4     https://www.finam.ru/analysis/newsitem/rosneft...  rosneft        10:50   \n",
       "...                                                 ...      ...          ...   \n",
       "2438       https://www.finam.ru/analysis/newsitem6352F/  rosneft        13:12   \n",
       "2439       https://www.finam.ru/analysis/newsitem63489/  rosneft        17:55   \n",
       "2440       https://www.finam.ru/analysis/newsitem631B9/  rosneft        13:15   \n",
       "2441       https://www.finam.ru/analysis/newsitem631AD/  rosneft        12:22   \n",
       "2442       https://www.finam.ru/analysis/newsitem62F78/  rosneft        19:16   \n",
       "\n",
       "     article_date  \n",
       "0      13.08.2021  \n",
       "1      13.08.2021  \n",
       "2      13.08.2021  \n",
       "3      13.08.2021  \n",
       "4      13.08.2021  \n",
       "...           ...  \n",
       "2438   27.01.2012  \n",
       "2439   26.01.2012  \n",
       "2440   23.01.2012  \n",
       "2441   23.01.2012  \n",
       "2442   18.01.2012  \n",
       "\n",
       "[2443 rows x 6 columns]"
      ]
     },
     "execution_count": 62,
     "metadata": {},
     "output_type": "execute_result"
    }
   ],
   "source": [
    "pd.DataFrame(table)"
   ]
  }
 ],
 "metadata": {
  "kernelspec": {
   "display_name": "Python 3",
   "language": "python",
   "name": "python3"
  },
  "language_info": {
   "codemirror_mode": {
    "name": "ipython",
    "version": 3
   },
   "file_extension": ".py",
   "mimetype": "text/x-python",
   "name": "python",
   "nbconvert_exporter": "python",
   "pygments_lexer": "ipython3",
   "version": "3.8.5"
  }
 },
 "nbformat": 4,
 "nbformat_minor": 4
}
