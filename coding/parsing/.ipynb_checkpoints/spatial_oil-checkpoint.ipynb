{
 "cells": [
  {
   "cell_type": "markdown",
   "metadata": {},
   "source": [
    "# Библиотеки"
   ]
  },
  {
   "cell_type": "code",
   "execution_count": 2,
   "metadata": {},
   "outputs": [],
   "source": [
    "import requests\n",
    "from bs4 import BeautifulSoup as bs\n",
    "import pandas as pd \n",
    "from time import sleep"
   ]
  },
  {
   "cell_type": "code",
   "execution_count": null,
   "metadata": {},
   "outputs": [],
   "source": [
    "url_attribute = 'https://russiabase.ru/smallscripts/getprice.php'\n",
    "url_region = 'https://russiabase.ru/price.php'"
   ]
  },
  {
   "cell_type": "markdown",
   "metadata": {},
   "source": [
    "# Регионы"
   ]
  },
  {
   "cell_type": "code",
   "execution_count": null,
   "metadata": {},
   "outputs": [],
   "source": [
    "resp_region = requests.get(url_region)\n",
    "soup_region = bs(resp_region.text)\n",
    "region_set = soup_region.find('select', {'id': 'region', 'name': 'region', 'class': 'form-control'}).find_all('option')"
   ]
  },
  {
   "cell_type": "code",
   "execution_count": null,
   "metadata": {},
   "outputs": [],
   "source": [
    "data = []\n",
    "for item in region_set:\n",
    "        region_name = item.text\n",
    "        region_number = item.attrs['value']\n",
    "        data.append({\n",
    "            'region_name': region_name,\n",
    "            'region_number': region_number})\n",
    "data = data[1:]"
   ]
  },
  {
   "cell_type": "code",
   "execution_count": null,
   "metadata": {},
   "outputs": [],
   "source": [
    "pd.DataFrame(data)"
   ]
  },
  {
   "cell_type": "markdown",
   "metadata": {},
   "source": [
    "# Районы"
   ]
  },
  {
   "cell_type": "code",
   "execution_count": null,
   "metadata": {},
   "outputs": [],
   "source": [
    "params = {'region':'82'}\n",
    "head = {\n",
    "    'User-Agent': 'Mozilla/5.0 (Macintosh; Intel Mac OS X 10_15_7) AppleWebKit/537.36 (KHTML, like Gecko) Chrome/92.0.4515.159 Safari/537.36',\n",
    "    'X-Requested-With': 'XMLHttpRequest'}\n",
    "resp_raion = requests.get(url_attribute, params=params, headers=head)\n",
    "soup_raion = bs(resp_raion.text)\n",
    "raion_set = soup_raion.find('select', {'id': 'raion', 'name': 'raion', 'class': 'form-control'}).find_all('option')"
   ]
  },
  {
   "cell_type": "code",
   "execution_count": null,
   "metadata": {},
   "outputs": [],
   "source": [
    "data = []\n",
    "for item in raion_set:\n",
    "        raion_name = item.text\n",
    "        raion_number = item.attrs['value']\n",
    "        data.append({\n",
    "            'region_name': 'Московская область',\n",
    "            'region_number': '82', \n",
    "            'raion_name': raion_name, \n",
    "            'raion_number': raion_number})\n",
    "data = data[1:]"
   ]
  },
  {
   "cell_type": "code",
   "execution_count": null,
   "metadata": {},
   "outputs": [],
   "source": [
    "pd.DataFrame(data)"
   ]
  },
  {
   "cell_type": "markdown",
   "metadata": {},
   "source": [
    "# Города"
   ]
  },
  {
   "cell_type": "code",
   "execution_count": null,
   "metadata": {},
   "outputs": [],
   "source": [
    "2392\n",
    "1395"
   ]
  },
  {
   "cell_type": "code",
   "execution_count": 47,
   "metadata": {},
   "outputs": [
    {
     "ename": "AttributeError",
     "evalue": "'NoneType' object has no attribute 'find_all'",
     "output_type": "error",
     "traceback": [
      "\u001b[0;31m---------------------------------------------------------------------------\u001b[0m",
      "\u001b[0;31mAttributeError\u001b[0m                            Traceback (most recent call last)",
      "\u001b[0;32m<ipython-input-47-9e22c3be9e8f>\u001b[0m in \u001b[0;36m<module>\u001b[0;34m\u001b[0m\n\u001b[1;32m      5\u001b[0m \u001b[0mresp_city\u001b[0m \u001b[0;34m=\u001b[0m \u001b[0mrequests\u001b[0m\u001b[0;34m.\u001b[0m\u001b[0mget\u001b[0m\u001b[0;34m(\u001b[0m\u001b[0murl_attribute\u001b[0m\u001b[0;34m,\u001b[0m \u001b[0mparams\u001b[0m\u001b[0;34m=\u001b[0m\u001b[0mparams\u001b[0m\u001b[0;34m,\u001b[0m \u001b[0mheaders\u001b[0m\u001b[0;34m=\u001b[0m\u001b[0mhead\u001b[0m\u001b[0;34m)\u001b[0m\u001b[0;34m\u001b[0m\u001b[0;34m\u001b[0m\u001b[0m\n\u001b[1;32m      6\u001b[0m \u001b[0msoup_city\u001b[0m \u001b[0;34m=\u001b[0m \u001b[0mbs\u001b[0m\u001b[0;34m(\u001b[0m\u001b[0mresp_city\u001b[0m\u001b[0;34m.\u001b[0m\u001b[0mtext\u001b[0m\u001b[0;34m)\u001b[0m\u001b[0;34m\u001b[0m\u001b[0;34m\u001b[0m\u001b[0m\n\u001b[0;32m----> 7\u001b[0;31m \u001b[0mcity_set\u001b[0m \u001b[0;34m=\u001b[0m \u001b[0msoup_city\u001b[0m\u001b[0;34m.\u001b[0m\u001b[0mfind\u001b[0m\u001b[0;34m(\u001b[0m\u001b[0;34m'select'\u001b[0m\u001b[0;34m,\u001b[0m \u001b[0;34m{\u001b[0m\u001b[0;34m'id'\u001b[0m\u001b[0;34m:\u001b[0m \u001b[0;34m'city'\u001b[0m\u001b[0;34m,\u001b[0m \u001b[0;34m'name'\u001b[0m\u001b[0;34m:\u001b[0m \u001b[0;34m'city'\u001b[0m\u001b[0;34m,\u001b[0m \u001b[0;34m'class'\u001b[0m\u001b[0;34m:\u001b[0m \u001b[0;34m'form-control'\u001b[0m\u001b[0;34m}\u001b[0m\u001b[0;34m)\u001b[0m\u001b[0;34m.\u001b[0m\u001b[0mfind_all\u001b[0m\u001b[0;34m(\u001b[0m\u001b[0;34m'option'\u001b[0m\u001b[0;34m)\u001b[0m\u001b[0;34m\u001b[0m\u001b[0;34m\u001b[0m\u001b[0m\n\u001b[0m",
      "\u001b[0;31mAttributeError\u001b[0m: 'NoneType' object has no attribute 'find_all'"
     ]
    }
   ],
   "source": [
    "params = {'raion':'1395'}\n",
    "head = {\n",
    "    'User-Agent': 'Mozilla/5.0 (Macintosh; Intel Mac OS X 10_15_7) AppleWebKit/537.36 (KHTML, like Gecko) Chrome/92.0.4515.159 Safari/537.36',\n",
    "    'X-Requested-With': 'XMLHttpRequest'}\n",
    "resp_city = requests.get(url_attribute, params=params, headers=head)\n",
    "soup_city = bs(resp_city.text)\n",
    "city_set = soup_city.find('select', {'id': 'city', 'name': 'city', 'class': 'form-control'}).find_all('option')"
   ]
  },
  {
   "cell_type": "code",
   "execution_count": 49,
   "metadata": {},
   "outputs": [
    {
     "data": {
      "text/plain": [
       "<html><body><p>﻿</p></body></html>"
      ]
     },
     "execution_count": 49,
     "metadata": {},
     "output_type": "execute_result"
    }
   ],
   "source": [
    "soup_city"
   ]
  },
  {
   "cell_type": "code",
   "execution_count": null,
   "metadata": {},
   "outputs": [],
   "source": [
    "data = []\n",
    "for item in city_set:\n",
    "        city_name = item.text\n",
    "        city_number = item.attrs['value']\n",
    "        data.append({\n",
    "            'region_name': 'Московская область',\n",
    "            'region_number': '82', \n",
    "            'raion_name': 'Дмитровский район', \n",
    "            'raion_number': '2392', \n",
    "            'city_name': city_name, \n",
    "            'city_number': city_number})\n",
    "data = data[1:]"
   ]
  },
  {
   "cell_type": "code",
   "execution_count": null,
   "metadata": {},
   "outputs": [],
   "source": [
    "pd.DataFrame(data)"
   ]
  },
  {
   "cell_type": "markdown",
   "metadata": {},
   "source": [
    "# Компании"
   ]
  },
  {
   "cell_type": "code",
   "execution_count": 50,
   "metadata": {},
   "outputs": [],
   "source": [
    "params = {'compcity':'167115'}\n",
    "head = {\n",
    "    'User-Agent': 'Mozilla/5.0 (Macintosh; Intel Mac OS X 10_15_7) AppleWebKit/537.36 (KHTML, like Gecko) Chrome/92.0.4515.159 Safari/537.36',\n",
    "    'X-Requested-With': 'XMLHttpRequest'}\n",
    "resp_company = requests.get(url_attribute, params=params, headers=head)\n",
    "soup_company = bs(resp_company.text)\n",
    "company_set = soup_company.find('select', {'id': 'brand', 'name': 'brand', 'class': 'form-control'}).find_all('option')"
   ]
  },
  {
   "cell_type": "code",
   "execution_count": 51,
   "metadata": {},
   "outputs": [],
   "source": [
    "data = []\n",
    "for item in company_set:\n",
    "        company_name = item.text\n",
    "        company_number = item.attrs['value']\n",
    "        data.append({\n",
    "            'region_name': 'Московская область',\n",
    "            'region_number': '82', \n",
    "            'raion_name': 'Дмитровский район', \n",
    "            'raion_number': '2392', \n",
    "            'city_name': 'Дмитров', \n",
    "            'city_number': '167115',\n",
    "            'company_name': company_name, \n",
    "            'company_number': company_number})\n",
    "data = data[1:]"
   ]
  },
  {
   "cell_type": "code",
   "execution_count": 52,
   "metadata": {
    "scrolled": true
   },
   "outputs": [
    {
     "data": {
      "text/html": [
       "<div>\n",
       "<style scoped>\n",
       "    .dataframe tbody tr th:only-of-type {\n",
       "        vertical-align: middle;\n",
       "    }\n",
       "\n",
       "    .dataframe tbody tr th {\n",
       "        vertical-align: top;\n",
       "    }\n",
       "\n",
       "    .dataframe thead th {\n",
       "        text-align: right;\n",
       "    }\n",
       "</style>\n",
       "<table border=\"1\" class=\"dataframe\">\n",
       "  <thead>\n",
       "    <tr style=\"text-align: right;\">\n",
       "      <th></th>\n",
       "      <th>region_name</th>\n",
       "      <th>region_number</th>\n",
       "      <th>raion_name</th>\n",
       "      <th>raion_number</th>\n",
       "      <th>city_name</th>\n",
       "      <th>city_number</th>\n",
       "      <th>company_name</th>\n",
       "      <th>company_number</th>\n",
       "    </tr>\n",
       "  </thead>\n",
       "  <tbody>\n",
       "    <tr>\n",
       "      <th>0</th>\n",
       "      <td>Московская область</td>\n",
       "      <td>82</td>\n",
       "      <td>Дмитровский район</td>\n",
       "      <td>2392</td>\n",
       "      <td>Дмитров</td>\n",
       "      <td>167115</td>\n",
       "      <td>SHELL</td>\n",
       "      <td>124</td>\n",
       "    </tr>\n",
       "    <tr>\n",
       "      <th>1</th>\n",
       "      <td>Московская область</td>\n",
       "      <td>82</td>\n",
       "      <td>Дмитровский район</td>\n",
       "      <td>2392</td>\n",
       "      <td>Дмитров</td>\n",
       "      <td>167115</td>\n",
       "      <td>Лукойл</td>\n",
       "      <td>119</td>\n",
       "    </tr>\n",
       "  </tbody>\n",
       "</table>\n",
       "</div>"
      ],
      "text/plain": [
       "          region_name region_number         raion_name raion_number city_name  \\\n",
       "0  Московская область            82  Дмитровский район         2392   Дмитров   \n",
       "1  Московская область            82  Дмитровский район         2392   Дмитров   \n",
       "\n",
       "  city_number company_name company_number  \n",
       "0      167115        SHELL            124  \n",
       "1      167115       Лукойл            119  "
      ]
     },
     "execution_count": 52,
     "metadata": {},
     "output_type": "execute_result"
    }
   ],
   "source": [
    "pd.DataFrame(data)"
   ]
  },
  {
   "cell_type": "markdown",
   "metadata": {},
   "source": [
    "# Трасса"
   ]
  },
  {
   "cell_type": "code",
   "execution_count": null,
   "metadata": {},
   "outputs": [],
   "source": [
    "params = {'trasscity':'167115'}\n",
    "head = {\n",
    "    'User-Agent': 'Mozilla/5.0 (Macintosh; Intel Mac OS X 10_15_7) AppleWebKit/537.36 (KHTML, like Gecko) Chrome/92.0.4515.159 Safari/537.36',\n",
    "    'X-Requested-With': 'XMLHttpRequest'}\n",
    "resp_trass = requests.get(url_attribute, params=params, headers=head)\n",
    "soup_trass = bs(resp_trass.text)\n",
    "trass_set = soup_trass.find('select', {'id': 'trassa', 'name': 'trassa', 'class': 'form-control'}).find_all('option')"
   ]
  },
  {
   "cell_type": "code",
   "execution_count": null,
   "metadata": {},
   "outputs": [],
   "source": [
    "data = []\n",
    "for item in trass_set:\n",
    "        trass_name = item.text\n",
    "        trass_number = item.attrs['value']\n",
    "        data.append({\n",
    "            'region_name': 'Московская область',\n",
    "            'region_number': '82', \n",
    "            'raion_name': 'Дмитровский район', \n",
    "            'raion_number': '2392', \n",
    "            'city_name': 'Дмитров', \n",
    "            'city_number': '167115',\n",
    "            'company_name': company_name, \n",
    "            'company_number': company_number, \n",
    "            'trass_name': trass_name, \n",
    "            'trass_number': trass_number})\n",
    "data = data[1:]"
   ]
  },
  {
   "cell_type": "code",
   "execution_count": null,
   "metadata": {},
   "outputs": [],
   "source": [
    "pd.DataFrame(data)"
   ]
  },
  {
   "cell_type": "markdown",
   "metadata": {},
   "source": [
    "# Тип топлива"
   ]
  },
  {
   "cell_type": "code",
   "execution_count": null,
   "metadata": {},
   "outputs": [],
   "source": [
    "params = {'markcity':'167115'}\n",
    "head = {\n",
    "    'User-Agent': 'Mozilla/5.0 (Macintosh; Intel Mac OS X 10_15_7) AppleWebKit/537.36 (KHTML, like Gecko) Chrome/92.0.4515.159 Safari/537.36',\n",
    "    'X-Requested-With': 'XMLHttpRequest'}\n",
    "resp_oiltype = requests.get(url_attribute, params=params, headers=head)\n",
    "soup_oiltype = bs(resp_oiltype.text)\n",
    "oiltype_set = soup_oiltype.find('select', {'id': 'mark', 'name': 'mark', 'class': 'form-control'}).find_all('option')"
   ]
  },
  {
   "cell_type": "code",
   "execution_count": null,
   "metadata": {},
   "outputs": [],
   "source": [
    "data = []\n",
    "for item in oiltype_set:\n",
    "        oiltype_name = item.text\n",
    "        oiltype_number = item.attrs['value']\n",
    "        data.append({\n",
    "            'region_name': 'Московская область',\n",
    "            'region_number': '82', \n",
    "            'raion_name': 'Дмитровский район', \n",
    "            'raion_number': '2392', \n",
    "            'city_name': 'Дмитров', \n",
    "            'city_number': '167115',\n",
    "            'company_name': company_name, \n",
    "            'company_number': company_number, \n",
    "            'trass_name': trass_name, \n",
    "            'trass_number': trass_number, \n",
    "            'oiltype_name': oiltype_name,\n",
    "            'oiltype_number': oiltype_number})\n",
    "data = data[1:]"
   ]
  },
  {
   "cell_type": "code",
   "execution_count": null,
   "metadata": {},
   "outputs": [],
   "source": [
    "pd.DataFrame(data)"
   ]
  },
  {
   "cell_type": "markdown",
   "metadata": {},
   "source": [
    "# Собираем все вместе "
   ]
  },
  {
   "cell_type": "code",
   "execution_count": 65,
   "metadata": {},
   "outputs": [
    {
     "ename": "AttributeError",
     "evalue": "'NoneType' object has no attribute 'find_all'",
     "output_type": "error",
     "traceback": [
      "\u001b[0;31m---------------------------------------------------------------------------\u001b[0m",
      "\u001b[0;31mAttributeError\u001b[0m                            Traceback (most recent call last)",
      "\u001b[0;32m<ipython-input-65-78681b49888c>\u001b[0m in \u001b[0;36m<module>\u001b[0;34m\u001b[0m\n\u001b[1;32m     47\u001b[0m                 \u001b[0mresp_trass\u001b[0m \u001b[0;34m=\u001b[0m \u001b[0mrequests\u001b[0m\u001b[0;34m.\u001b[0m\u001b[0mget\u001b[0m\u001b[0;34m(\u001b[0m\u001b[0murl_attribute\u001b[0m\u001b[0;34m,\u001b[0m \u001b[0mparams\u001b[0m\u001b[0;34m=\u001b[0m\u001b[0mparams_trass\u001b[0m\u001b[0;34m,\u001b[0m \u001b[0mheaders\u001b[0m\u001b[0;34m=\u001b[0m\u001b[0mhead\u001b[0m\u001b[0;34m)\u001b[0m\u001b[0;34m\u001b[0m\u001b[0;34m\u001b[0m\u001b[0m\n\u001b[1;32m     48\u001b[0m                 \u001b[0msoup_trass\u001b[0m \u001b[0;34m=\u001b[0m \u001b[0mbs\u001b[0m\u001b[0;34m(\u001b[0m\u001b[0mresp_trass\u001b[0m\u001b[0;34m.\u001b[0m\u001b[0mtext\u001b[0m\u001b[0;34m)\u001b[0m\u001b[0;34m\u001b[0m\u001b[0;34m\u001b[0m\u001b[0m\n\u001b[0;32m---> 49\u001b[0;31m                 \u001b[0mtrass_set\u001b[0m \u001b[0;34m=\u001b[0m \u001b[0msoup_trass\u001b[0m\u001b[0;34m.\u001b[0m\u001b[0mfind\u001b[0m\u001b[0;34m(\u001b[0m\u001b[0;34m'select'\u001b[0m\u001b[0;34m,\u001b[0m \u001b[0;34m{\u001b[0m\u001b[0;34m'id'\u001b[0m\u001b[0;34m:\u001b[0m \u001b[0;34m'trassa'\u001b[0m\u001b[0;34m,\u001b[0m \u001b[0;34m'name'\u001b[0m\u001b[0;34m:\u001b[0m \u001b[0;34m'trassa'\u001b[0m\u001b[0;34m,\u001b[0m \u001b[0;34m'class'\u001b[0m\u001b[0;34m:\u001b[0m \u001b[0;34m'form-control'\u001b[0m\u001b[0;34m}\u001b[0m\u001b[0;34m)\u001b[0m\u001b[0;34m.\u001b[0m\u001b[0mfind_all\u001b[0m\u001b[0;34m(\u001b[0m\u001b[0;34m'option'\u001b[0m\u001b[0;34m)\u001b[0m\u001b[0;34m\u001b[0m\u001b[0;34m\u001b[0m\u001b[0m\n\u001b[0m\u001b[1;32m     50\u001b[0m                 \u001b[0mtrass_set\u001b[0m \u001b[0;34m=\u001b[0m \u001b[0mtrass_set\u001b[0m\u001b[0;34m[\u001b[0m\u001b[0;36m1\u001b[0m\u001b[0;34m:\u001b[0m\u001b[0;34m]\u001b[0m\u001b[0;34m\u001b[0m\u001b[0;34m\u001b[0m\u001b[0m\n\u001b[1;32m     51\u001b[0m \u001b[0;34m\u001b[0m\u001b[0m\n",
      "\u001b[0;31mAttributeError\u001b[0m: 'NoneType' object has no attribute 'find_all'"
     ]
    }
   ],
   "source": [
    "url_attribute = 'https://russiabase.ru/smallscripts/getprice.php'\n",
    "url_region = 'https://russiabase.ru/price.php'\n",
    "head = {'User-Agent': 'Mozilla/5.0 (Macintosh; Intel Mac OS X 10_15_7) AppleWebKit/537.36 (KHTML, like Gecko) Chrome/92.0.4515.159 Safari/537.36', 'X-Requested-With': 'XMLHttpRequest'}\n",
    "\n",
    "data = []\n",
    "\n",
    "resp_region = requests.get(url_region)\n",
    "soup_region = bs(resp_region.text)\n",
    "region_set = soup_region.find('select', {'id': 'region', 'name': 'region', 'class': 'form-control'}).find_all('option')\n",
    "region_set = region_set[1:]\n",
    "\n",
    "for region in region_set:\n",
    "        region_name = region.text\n",
    "        region_number = region.attrs['value']\n",
    "        \n",
    "        params_raion = {'region': region_number}\n",
    "        resp_raion = requests.get(url_attribute, params=params_raion, headers=head)\n",
    "        soup_raion = bs(resp_raion.text)\n",
    "        raion_set = soup_raion.find('select', {'id': 'raion', 'name': 'raion', 'class': 'form-control'}).find_all('option')\n",
    "        raion_set = raion_set[1:]\n",
    "        \n",
    "        for raion in raion_set:\n",
    "            raion_name = raion.text\n",
    "            raion_number = raion.attrs['value']\n",
    "        \n",
    "            params_city = {'raion': raion_number}\n",
    "            resp_city = requests.get(url_attribute, params=params_city, headers=head)\n",
    "            soup_city = bs(resp_city.text)\n",
    "            city_set = soup_city.find('select', {'id': 'city', 'name': 'city', 'class': 'form-control'}).find_all('option')\n",
    "            city_set = city_set[1:]\n",
    "            \n",
    "            for city in city_set:\n",
    "                city_name = city.text\n",
    "                city_number = city.attrs['value']\n",
    "                \n",
    "                params_company = {'compcity': city_number}\n",
    "                resp_company = requests.get(url_attribute, params=params_company, headers=head)\n",
    "                soup_company = bs(resp_company.text)\n",
    "                company_set = soup_company.find('select', {'id': 'brand', 'name': 'brand', 'class': 'form-control'}).find_all('option')\n",
    "                company_set = company_set[1:]\n",
    "                \n",
    "                for company in company_set:\n",
    "                    company_name = company.text\n",
    "                    company_number = company.attrs['value']\n",
    "              \n",
    "                params_trass = {'trasscity': city_number}\n",
    "                resp_trass = requests.get(url_attribute, params=params_trass, headers=head)\n",
    "                soup_trass = bs(resp_trass.text)\n",
    "                trass_set = soup_trass.find('select', {'id': 'trassa', 'name': 'trassa', 'class': 'form-control'}).find_all('option')\n",
    "                trass_set = trass_set[1:]\n",
    "                \n",
    "                for trass in trass_set:\n",
    "                    trass_name = trass.text\n",
    "                    trass_number = trass.attrs['value']\n",
    "                \n",
    "                params_oiltype = {'markcity': city_number}\n",
    "                resp_oiltype = requests.get(url_attribute, params=params_oiltype, headers=head)\n",
    "                soup_oiltype = bs(resp_oiltype.text)\n",
    "                oiltype_set = soup_oiltype.find('select', {'id': 'mark', 'name': 'mark', 'class': 'form-control'}).find_all('option')\n",
    "                oiltype_set = oiltype_set[1:]\n",
    "                \n",
    "                for oiltype in oiltype_set:\n",
    "                    oiltype_name = oiltype.text\n",
    "                    oiltype_number = oiltype.attrs['value']\n",
    "        \n",
    "                    data.append({\n",
    "                        'region_name': region_name,\n",
    "                        'region_number': region_number,\n",
    "                        'raion_name': raion_name, \n",
    "                        'raion_number': raion_number,\n",
    "                        'city_name': city_name, \n",
    "                        'city_number': city_number,\n",
    "                        'company_name': company_name, \n",
    "                        'company_number': company_number, \n",
    "                        'trass_name': trass_name, \n",
    "                        'trass_number': trass_number, \n",
    "                        'oiltype_name': oiltype_name,\n",
    "                        'oiltype_number': oiltype_number})"
   ]
  }
 ],
 "metadata": {
  "kernelspec": {
   "display_name": "Python 3",
   "language": "python",
   "name": "python3"
  },
  "language_info": {
   "codemirror_mode": {
    "name": "ipython",
    "version": 3
   },
   "file_extension": ".py",
   "mimetype": "text/x-python",
   "name": "python",
   "nbconvert_exporter": "python",
   "pygments_lexer": "ipython3",
   "version": "3.8.5"
  }
 },
 "nbformat": 4,
 "nbformat_minor": 4
}
