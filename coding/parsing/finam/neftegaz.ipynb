{
 "cells": [
  {
   "cell_type": "markdown",
   "id": "9cda649b",
   "metadata": {},
   "source": [
    "## Библиотеки"
   ]
  },
  {
   "cell_type": "code",
   "execution_count": 187,
   "id": "c9fbe8af",
   "metadata": {},
   "outputs": [],
   "source": [
    "import requests\n",
    "from bs4 import BeautifulSoup as bs\n",
    "import pandas as pd \n",
    "from time import sleep\n",
    "from time import time"
   ]
  },
  {
   "cell_type": "markdown",
   "id": "9f8ad4fe",
   "metadata": {},
   "source": [
    "---"
   ]
  },
  {
   "cell_type": "markdown",
   "id": "98788f23",
   "metadata": {},
   "source": [
    "## Функция-парсер"
   ]
  },
  {
   "cell_type": "code",
   "execution_count": 218,
   "id": "3321968a",
   "metadata": {},
   "outputs": [],
   "source": [
    "def news_parser(company):\n",
    "    template_url = 'https://neftegaz.ru/search/'\n",
    "    page = '1'\n",
    "    base_url = template_url + page + '/?site=pr&submenu=materials&submenu2=news&sort=DATE_FROM&q=' + company\n",
    "    resp = requests.get(base_url)\n",
    "    soup = bs(resp.text)\n",
    "    pages = soup.find('div', {'class': 'modern-page-navigation'}).find_all('a')[-2].text\n",
    "\n",
    "    print('Total pages:', pages, end='\\n')\n",
    "    print('Total news:', int(pages)*20, end='\\n')\n",
    "\n",
    "    site = 'pr'\n",
    "    submenu = 'materials'\n",
    "    submenu2 = 'news'\n",
    "    sort = 'DATE_FROM'\n",
    "    q = company\n",
    "    \n",
    "    news = []\n",
    "    for i in range(1,int(pages)+1): \n",
    "            print('Start page', i, end='\\r')\n",
    "            url = template_url + str(i) + '/'\n",
    "            resp = requests.get(url, \n",
    "                                params={'site': site,\n",
    "                                        'submenu': submenu,\n",
    "                                        'submenu2': submenu2,\n",
    "                                        'sort': sort,\n",
    "                                        'q': q})\n",
    "            soup = bs(resp.text)\n",
    "            news_set = soup.find_all('div', {'class': 'm-result_list'})\n",
    "            for item in news_set:\n",
    "                date = item.find('div', {'class': 'date'}).text\n",
    "                title = item.find('div', {'class': 'title'}).text.strip()\n",
    "                href = item.find('div', {'class': 'title'}).find(href = True)['href']\n",
    "                preview = item.find('div', {'class': 'excerption'}).text.strip().replace('\\r', '')\n",
    "                news.append({\n",
    "                    'preview_date': date,\n",
    "                    'preview_title': title,\n",
    "                    'preview_text': preview,\n",
    "                    'url': href,\n",
    "                    'company': q}) \n",
    "            sleep(1)\n",
    "           \n",
    "    print('', end='\\n')\n",
    "    \n",
    "    for item in news:\n",
    "        print('Start news', news.index(item), end='\\r')\n",
    "        resp = requests.get(item['url'])\n",
    "        soup = bs(resp.text)\n",
    "        article_time = soup.find('div', {'class': 'date'}).text.split(',')[1].strip()\n",
    "        article_date = soup.find('div', {'class': 'date'}).text.split(',')[0].strip()\n",
    "        article_title = soup.find('h1').text\n",
    "        #article_preamble = soup.find('p', {'class': 'bold'}).text\n",
    "        text_parts = soup.find('div', {'itemprop': 'articleBody'}).find_all('p')\n",
    "        article = []\n",
    "        for part in text_parts:\n",
    "            article.append(part.text.strip()) \n",
    "        article = ' '.join(article)\n",
    "        item.update({'article_time': article_time,\n",
    "                     'article_date': article_date,\n",
    "                     'article_title': article_title,\n",
    "                     #'article_preamble': article_preamble,\n",
    "                     'article_text':article})\n",
    "        sleep(1)\n",
    "        \n",
    "    return news"
   ]
  },
  {
   "cell_type": "code",
   "execution_count": null,
   "id": "3e73cad9",
   "metadata": {},
   "outputs": [],
   "source": [
    "def text_parser(news):\n",
    "    for item in news:\n",
    "            print('Start news', news.index(item), end='\\r')\n",
    "            resp = requests.get(item['url'])\n",
    "            soup = bs(resp.text)\n",
    "            article_time = soup.find('div', {'class': 'date'}).text.split(',')[1].strip()\n",
    "            article_date = soup.find('div', {'class': 'date'}).text.split(',')[0].strip()\n",
    "            article_title = soup.find('h1').text\n",
    "            #article_preamble = soup.find('p', {'class': 'bold'}).text\n",
    "            text_parts = soup.find('div', {'itemprop': 'articleBody'}).find_all('p')\n",
    "            article = []\n",
    "            for part in text_parts:\n",
    "                article.append(part.text.strip()) \n",
    "            article = ' '.join(article)\n",
    "            item.update({'article_time': article_time,\n",
    "                         'article_date': article_date,\n",
    "                         'article_title': article_title,\n",
    "                         #'article_preamble': article_preamble,\n",
    "                         'article_text':article})\n",
    "            sleep(1)\n",
    "    return news"
   ]
  },
  {
   "cell_type": "markdown",
   "id": "844f0acc",
   "metadata": {},
   "source": [
    "---"
   ]
  },
  {
   "cell_type": "markdown",
   "id": "e55880ad",
   "metadata": {},
   "source": [
    "## Датасеты по компаниям"
   ]
  },
  {
   "cell_type": "markdown",
   "id": "948bebed",
   "metadata": {},
   "source": [
    "### Роснефть"
   ]
  },
  {
   "cell_type": "code",
   "execution_count": 222,
   "id": "584893d4",
   "metadata": {},
   "outputs": [
    {
     "name": "stdout",
     "output_type": "stream",
     "text": [
      "Total pages: 761\n",
      "Total news: 15220\n",
      "Start page 761\n",
      "Start news 690\r"
     ]
    },
    {
     "ename": "AttributeError",
     "evalue": "'NoneType' object has no attribute 'text'",
     "output_type": "error",
     "traceback": [
      "\u001b[0;31m---------------------------------------------------------------------------\u001b[0m",
      "\u001b[0;31mAttributeError\u001b[0m                            Traceback (most recent call last)",
      "\u001b[0;32m<timed exec>\u001b[0m in \u001b[0;36m<module>\u001b[0;34m\u001b[0m\n",
      "\u001b[0;32m/var/folders/hh/gpycq5nx1056dfjxwqsbk4qc0000gn/T/ipykernel_95285/3456799167.py\u001b[0m in \u001b[0;36mnews_parser\u001b[0;34m(company)\u001b[0m\n\u001b[1;32m     47\u001b[0m         \u001b[0mresp\u001b[0m \u001b[0;34m=\u001b[0m \u001b[0mrequests\u001b[0m\u001b[0;34m.\u001b[0m\u001b[0mget\u001b[0m\u001b[0;34m(\u001b[0m\u001b[0mitem\u001b[0m\u001b[0;34m[\u001b[0m\u001b[0;34m'url'\u001b[0m\u001b[0;34m]\u001b[0m\u001b[0;34m)\u001b[0m\u001b[0;34m\u001b[0m\u001b[0;34m\u001b[0m\u001b[0m\n\u001b[1;32m     48\u001b[0m         \u001b[0msoup\u001b[0m \u001b[0;34m=\u001b[0m \u001b[0mbs\u001b[0m\u001b[0;34m(\u001b[0m\u001b[0mresp\u001b[0m\u001b[0;34m.\u001b[0m\u001b[0mtext\u001b[0m\u001b[0;34m)\u001b[0m\u001b[0;34m\u001b[0m\u001b[0;34m\u001b[0m\u001b[0m\n\u001b[0;32m---> 49\u001b[0;31m         \u001b[0marticle_time\u001b[0m \u001b[0;34m=\u001b[0m \u001b[0msoup\u001b[0m\u001b[0;34m.\u001b[0m\u001b[0mfind\u001b[0m\u001b[0;34m(\u001b[0m\u001b[0;34m'div'\u001b[0m\u001b[0;34m,\u001b[0m \u001b[0;34m{\u001b[0m\u001b[0;34m'class'\u001b[0m\u001b[0;34m:\u001b[0m \u001b[0;34m'date'\u001b[0m\u001b[0;34m}\u001b[0m\u001b[0;34m)\u001b[0m\u001b[0;34m.\u001b[0m\u001b[0mtext\u001b[0m\u001b[0;34m.\u001b[0m\u001b[0msplit\u001b[0m\u001b[0;34m(\u001b[0m\u001b[0;34m','\u001b[0m\u001b[0;34m)\u001b[0m\u001b[0;34m[\u001b[0m\u001b[0;36m1\u001b[0m\u001b[0;34m]\u001b[0m\u001b[0;34m.\u001b[0m\u001b[0mstrip\u001b[0m\u001b[0;34m(\u001b[0m\u001b[0;34m)\u001b[0m\u001b[0;34m\u001b[0m\u001b[0;34m\u001b[0m\u001b[0m\n\u001b[0m\u001b[1;32m     50\u001b[0m         \u001b[0marticle_date\u001b[0m \u001b[0;34m=\u001b[0m \u001b[0msoup\u001b[0m\u001b[0;34m.\u001b[0m\u001b[0mfind\u001b[0m\u001b[0;34m(\u001b[0m\u001b[0;34m'div'\u001b[0m\u001b[0;34m,\u001b[0m \u001b[0;34m{\u001b[0m\u001b[0;34m'class'\u001b[0m\u001b[0;34m:\u001b[0m \u001b[0;34m'date'\u001b[0m\u001b[0;34m}\u001b[0m\u001b[0;34m)\u001b[0m\u001b[0;34m.\u001b[0m\u001b[0mtext\u001b[0m\u001b[0;34m.\u001b[0m\u001b[0msplit\u001b[0m\u001b[0;34m(\u001b[0m\u001b[0;34m','\u001b[0m\u001b[0;34m)\u001b[0m\u001b[0;34m[\u001b[0m\u001b[0;36m0\u001b[0m\u001b[0;34m]\u001b[0m\u001b[0;34m.\u001b[0m\u001b[0mstrip\u001b[0m\u001b[0;34m(\u001b[0m\u001b[0;34m)\u001b[0m\u001b[0;34m\u001b[0m\u001b[0;34m\u001b[0m\u001b[0m\n\u001b[1;32m     51\u001b[0m         \u001b[0marticle_title\u001b[0m \u001b[0;34m=\u001b[0m \u001b[0msoup\u001b[0m\u001b[0;34m.\u001b[0m\u001b[0mfind\u001b[0m\u001b[0;34m(\u001b[0m\u001b[0;34m'h1'\u001b[0m\u001b[0;34m)\u001b[0m\u001b[0;34m.\u001b[0m\u001b[0mtext\u001b[0m\u001b[0;34m\u001b[0m\u001b[0;34m\u001b[0m\u001b[0m\n",
      "\u001b[0;31mAttributeError\u001b[0m: 'NoneType' object has no attribute 'text'"
     ]
    }
   ],
   "source": [
    "%%time\n",
    "rosneft_news = news_parser(company='Роснефть')"
   ]
  },
  {
   "cell_type": "code",
   "execution_count": 223,
   "id": "abf2a56c",
   "metadata": {},
   "outputs": [
    {
     "ename": "NameError",
     "evalue": "name 'rosneft_news' is not defined",
     "output_type": "error",
     "traceback": [
      "\u001b[0;31m---------------------------------------------------------------------------\u001b[0m",
      "\u001b[0;31mNameError\u001b[0m                                 Traceback (most recent call last)",
      "\u001b[0;32m/var/folders/hh/gpycq5nx1056dfjxwqsbk4qc0000gn/T/ipykernel_95285/2791737110.py\u001b[0m in \u001b[0;36m<module>\u001b[0;34m\u001b[0m\n\u001b[0;32m----> 1\u001b[0;31m \u001b[0mpd\u001b[0m\u001b[0;34m.\u001b[0m\u001b[0mDataFrame\u001b[0m\u001b[0;34m(\u001b[0m\u001b[0mrosneft_news\u001b[0m\u001b[0;34m)\u001b[0m\u001b[0;34m\u001b[0m\u001b[0;34m\u001b[0m\u001b[0m\n\u001b[0m",
      "\u001b[0;31mNameError\u001b[0m: name 'rosneft_news' is not defined"
     ]
    }
   ],
   "source": [
    "pd.DataFrame(rosneft_news)"
   ]
  },
  {
   "cell_type": "code",
   "execution_count": null,
   "id": "596abed8",
   "metadata": {},
   "outputs": [],
   "source": [
    "pd.DataFrame(rosneft_news).to_csv('rosneft_news_neftegaz.csv')\n",
    "pd.DataFrame(rosneft_news).to_excel('rosneft_news_neftegaz.xlsx')"
   ]
  },
  {
   "cell_type": "code",
   "execution_count": null,
   "id": "14967365",
   "metadata": {},
   "outputs": [],
   "source": [
    "%%time\n",
    "bashneft_news = news_parser(company='Башнефть')"
   ]
  },
  {
   "cell_type": "code",
   "execution_count": null,
   "id": "1e514364",
   "metadata": {},
   "outputs": [],
   "source": [
    "pd.DataFrame(bashneft_news)"
   ]
  },
  {
   "cell_type": "code",
   "execution_count": null,
   "id": "5501505c",
   "metadata": {},
   "outputs": [],
   "source": [
    "pd.DataFrame(bashneft_news).to_csv('bashneft_news_neftegaz.csv')\n",
    "pd.DataFrame(bashneft_news).to_excel('bashneft_news_neftegaz.xlsx')"
   ]
  },
  {
   "cell_type": "code",
   "execution_count": 226,
   "id": "c9001204",
   "metadata": {},
   "outputs": [
    {
     "name": "stdout",
     "output_type": "stream",
     "text": [
      "Total pages: 684\n",
      "Total news: 13680\n",
      "Start page 684\n",
      "Start news 882\r"
     ]
    },
    {
     "ename": "AttributeError",
     "evalue": "'NoneType' object has no attribute 'text'",
     "output_type": "error",
     "traceback": [
      "\u001b[0;31m---------------------------------------------------------------------------\u001b[0m",
      "\u001b[0;31mAttributeError\u001b[0m                            Traceback (most recent call last)",
      "\u001b[0;32m<timed exec>\u001b[0m in \u001b[0;36m<module>\u001b[0;34m\u001b[0m\n",
      "\u001b[0;32m/var/folders/hh/gpycq5nx1056dfjxwqsbk4qc0000gn/T/ipykernel_95285/3456799167.py\u001b[0m in \u001b[0;36mnews_parser\u001b[0;34m(company)\u001b[0m\n\u001b[1;32m     47\u001b[0m         \u001b[0mresp\u001b[0m \u001b[0;34m=\u001b[0m \u001b[0mrequests\u001b[0m\u001b[0;34m.\u001b[0m\u001b[0mget\u001b[0m\u001b[0;34m(\u001b[0m\u001b[0mitem\u001b[0m\u001b[0;34m[\u001b[0m\u001b[0;34m'url'\u001b[0m\u001b[0;34m]\u001b[0m\u001b[0;34m)\u001b[0m\u001b[0;34m\u001b[0m\u001b[0;34m\u001b[0m\u001b[0m\n\u001b[1;32m     48\u001b[0m         \u001b[0msoup\u001b[0m \u001b[0;34m=\u001b[0m \u001b[0mbs\u001b[0m\u001b[0;34m(\u001b[0m\u001b[0mresp\u001b[0m\u001b[0;34m.\u001b[0m\u001b[0mtext\u001b[0m\u001b[0;34m)\u001b[0m\u001b[0;34m\u001b[0m\u001b[0;34m\u001b[0m\u001b[0m\n\u001b[0;32m---> 49\u001b[0;31m         \u001b[0marticle_time\u001b[0m \u001b[0;34m=\u001b[0m \u001b[0msoup\u001b[0m\u001b[0;34m.\u001b[0m\u001b[0mfind\u001b[0m\u001b[0;34m(\u001b[0m\u001b[0;34m'div'\u001b[0m\u001b[0;34m,\u001b[0m \u001b[0;34m{\u001b[0m\u001b[0;34m'class'\u001b[0m\u001b[0;34m:\u001b[0m \u001b[0;34m'date'\u001b[0m\u001b[0;34m}\u001b[0m\u001b[0;34m)\u001b[0m\u001b[0;34m.\u001b[0m\u001b[0mtext\u001b[0m\u001b[0;34m.\u001b[0m\u001b[0msplit\u001b[0m\u001b[0;34m(\u001b[0m\u001b[0;34m','\u001b[0m\u001b[0;34m)\u001b[0m\u001b[0;34m[\u001b[0m\u001b[0;36m1\u001b[0m\u001b[0;34m]\u001b[0m\u001b[0;34m.\u001b[0m\u001b[0mstrip\u001b[0m\u001b[0;34m(\u001b[0m\u001b[0;34m)\u001b[0m\u001b[0;34m\u001b[0m\u001b[0;34m\u001b[0m\u001b[0m\n\u001b[0m\u001b[1;32m     50\u001b[0m         \u001b[0marticle_date\u001b[0m \u001b[0;34m=\u001b[0m \u001b[0msoup\u001b[0m\u001b[0;34m.\u001b[0m\u001b[0mfind\u001b[0m\u001b[0;34m(\u001b[0m\u001b[0;34m'div'\u001b[0m\u001b[0;34m,\u001b[0m \u001b[0;34m{\u001b[0m\u001b[0;34m'class'\u001b[0m\u001b[0;34m:\u001b[0m \u001b[0;34m'date'\u001b[0m\u001b[0;34m}\u001b[0m\u001b[0;34m)\u001b[0m\u001b[0;34m.\u001b[0m\u001b[0mtext\u001b[0m\u001b[0;34m.\u001b[0m\u001b[0msplit\u001b[0m\u001b[0;34m(\u001b[0m\u001b[0;34m','\u001b[0m\u001b[0;34m)\u001b[0m\u001b[0;34m[\u001b[0m\u001b[0;36m0\u001b[0m\u001b[0;34m]\u001b[0m\u001b[0;34m.\u001b[0m\u001b[0mstrip\u001b[0m\u001b[0;34m(\u001b[0m\u001b[0;34m)\u001b[0m\u001b[0;34m\u001b[0m\u001b[0;34m\u001b[0m\u001b[0m\n\u001b[1;32m     51\u001b[0m         \u001b[0marticle_title\u001b[0m \u001b[0;34m=\u001b[0m \u001b[0msoup\u001b[0m\u001b[0;34m.\u001b[0m\u001b[0mfind\u001b[0m\u001b[0;34m(\u001b[0m\u001b[0;34m'h1'\u001b[0m\u001b[0;34m)\u001b[0m\u001b[0;34m.\u001b[0m\u001b[0mtext\u001b[0m\u001b[0;34m\u001b[0m\u001b[0;34m\u001b[0m\u001b[0m\n",
      "\u001b[0;31mAttributeError\u001b[0m: 'NoneType' object has no attribute 'text'"
     ]
    }
   ],
   "source": [
    "%%time\n",
    "gazpromneft_news = news_parser(company='Газпром нефть')"
   ]
  },
  {
   "cell_type": "code",
   "execution_count": 227,
   "id": "18719bf9",
   "metadata": {},
   "outputs": [
    {
     "ename": "NameError",
     "evalue": "name 'gazpromneft_news' is not defined",
     "output_type": "error",
     "traceback": [
      "\u001b[0;31m---------------------------------------------------------------------------\u001b[0m",
      "\u001b[0;31mNameError\u001b[0m                                 Traceback (most recent call last)",
      "\u001b[0;32m/var/folders/hh/gpycq5nx1056dfjxwqsbk4qc0000gn/T/ipykernel_95285/377044970.py\u001b[0m in \u001b[0;36m<module>\u001b[0;34m\u001b[0m\n\u001b[0;32m----> 1\u001b[0;31m \u001b[0mpd\u001b[0m\u001b[0;34m.\u001b[0m\u001b[0mDataFrame\u001b[0m\u001b[0;34m(\u001b[0m\u001b[0mgazpromneft_news\u001b[0m\u001b[0;34m)\u001b[0m\u001b[0;34m\u001b[0m\u001b[0;34m\u001b[0m\u001b[0m\n\u001b[0m",
      "\u001b[0;31mNameError\u001b[0m: name 'gazpromneft_news' is not defined"
     ]
    }
   ],
   "source": [
    "pd.DataFrame(gazpromneft_news)"
   ]
  },
  {
   "cell_type": "code",
   "execution_count": null,
   "id": "69851bfa",
   "metadata": {},
   "outputs": [],
   "source": [
    "pd.DataFrame(gazpromneft_news).to_csv('gazpromneft_news_neftegaz.csv')\n",
    "pd.DataFrame(gazpromneft_news).to_excel('gazpromneft_news_neftegaz.xlsx')"
   ]
  },
  {
   "cell_type": "code",
   "execution_count": null,
   "id": "5cb18f18",
   "metadata": {},
   "outputs": [],
   "source": [
    "%%time\n",
    "lukoil_news = news_parser(company='Лукойл')"
   ]
  },
  {
   "cell_type": "code",
   "execution_count": null,
   "id": "fb170e68",
   "metadata": {},
   "outputs": [],
   "source": [
    "pd.DataFrame(lukoil_news)"
   ]
  },
  {
   "cell_type": "code",
   "execution_count": null,
   "id": "4cabc2e7",
   "metadata": {},
   "outputs": [],
   "source": [
    "pd.DataFrame(lukoil_news).to_csv('lukoil_news_neftegaz.csv')\n",
    "pd.DataFrame(lukoil_news).to_excel('lukoil_news_neftegaz.xlsx')"
   ]
  },
  {
   "cell_type": "code",
   "execution_count": null,
   "id": "d420e942",
   "metadata": {},
   "outputs": [],
   "source": [
    "%%time\n",
    "tatneft_news = news_parser(company='Татнефть')"
   ]
  },
  {
   "cell_type": "code",
   "execution_count": null,
   "id": "257810fb",
   "metadata": {},
   "outputs": [],
   "source": [
    "pd.DataFrame(tatneft_news)"
   ]
  },
  {
   "cell_type": "code",
   "execution_count": null,
   "id": "e0129b76",
   "metadata": {},
   "outputs": [],
   "source": [
    "pd.DataFrame(tatneft_news).to_csv('tatneft_news_neftegaz.csv')\n",
    "pd.DataFrame(tatneft_news).to_excel('tatneft_news_neftegaz.xlsx')"
   ]
  }
 ],
 "metadata": {
  "kernelspec": {
   "display_name": "Python 3 (ipykernel)",
   "language": "python",
   "name": "python3"
  },
  "language_info": {
   "codemirror_mode": {
    "name": "ipython",
    "version": 3
   },
   "file_extension": ".py",
   "mimetype": "text/x-python",
   "name": "python",
   "nbconvert_exporter": "python",
   "pygments_lexer": "ipython3",
   "version": "3.9.7"
  }
 },
 "nbformat": 4,
 "nbformat_minor": 5
}
