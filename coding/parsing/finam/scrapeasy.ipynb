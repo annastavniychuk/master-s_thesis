{
 "cells": [
  {
   "cell_type": "code",
   "execution_count": 1,
   "id": "0f2ef220",
   "metadata": {},
   "outputs": [],
   "source": [
    "from scrapeasy import Website, Page"
   ]
  },
  {
   "cell_type": "code",
   "execution_count": 2,
   "id": "f490598f",
   "metadata": {},
   "outputs": [],
   "source": [
    "web = Website(\"https://www.finam.ru/infinity/quote/moex-akcii/gazprom-neft/publications/\")"
   ]
  },
  {
   "cell_type": "code",
   "execution_count": 4,
   "id": "f8d8c0aa",
   "metadata": {},
   "outputs": [],
   "source": [
    "links = web.getSubpagesLinks()"
   ]
  },
  {
   "cell_type": "code",
   "execution_count": 5,
   "id": "c9d6a932",
   "metadata": {},
   "outputs": [
    {
     "data": {
      "text/plain": [
       "['finam.ru/infinity/quote/moex-akcii/gazprom-neft/publications/',\n",
       " 'finam.ru/',\n",
       " 'finam.ru',\n",
       " 'finam.ru/international/imdaily',\n",
       " 'finam.ru/services/mobile',\n",
       " 'finam.ru/webinars/timetable',\n",
       " 'finam.ru/landings/eurobonds',\n",
       " 'finam.ru/landings/ua-special-operation',\n",
       " 'finam.ru/landings/pre-ipo',\n",
       " 'finam.ru//landings/open-order-new',\n",
       " 'finam.ru//demos/choose',\n",
       " 'finam.ru//infinity/quotes',\n",
       " 'finam.ru//analysis/eq_dates',\n",
       " 'finam.ru//macroevents',\n",
       " 'finam.ru//international/imdaily',\n",
       " 'finam.ru//howtotrade/Welcome/',\n",
       " 'finam.ru//landings/strategy-eurobond',\n",
       " 'finam.ru//infinity/quote/moex-akcii/gazprom-neft/publications',\n",
       " 'finam.ru//profile/moex-akcii/gazprom-neft/dates',\n",
       " 'finam.ru//profile/moex-akcii/gazprom-neft/events',\n",
       " 'finam.ru//profile/moex-akcii/gazprom-neft/tehanalys-live-new',\n",
       " 'finam.ru//profile/moex-akcii/gazprom-neft/tehanalys-live',\n",
       " 'finam.ru//profile/moex-akcii/gazprom-neft/tehanalys-light',\n",
       " 'finam.ru//profile/moex-akcii/gazprom-neft/compare',\n",
       " 'finam.ru//profile/moex-akcii/gazprom-neft/export',\n",
       " 'finam.ru//publications/item/akcionery-gazprom-nefti-odobrili-rasshirenie-sostava-soveta-direktorov-do-14-chelovek-20220418-200009',\n",
       " 'finam.ru//publications/item/sobytiya-predstoyashego-dnya-alrosa-i-global-ports-opublikuyut-operacionnye-rezultaty-20220414-210531',\n",
       " 'finam.ru/news/item/-gazprom-neft-pogasila-vypusk-obligatsiy-obemom-15-mlrd-rubley',\n",
       " 'finam.ru//publications/item/neskolko-kitaiyskix-kompaniiy-v-marte-uzhe-rasplatilis-za-ugol-iz-rf-yuanyami-smi-20220407-155120',\n",
       " 'finam.ru//publications/item/v-rossiiyskom-neftegaze-ostayutsya-perspektivnye-istorii-20220407-141043',\n",
       " 'finam.ru//publications/item/sobytiya-predstoyashego-dnya-zasedanie-soveta-direktorov-gazproma-20220406-210136',\n",
       " 'finam.ru//publications/item/britaniya-vvela-sankcii-protiv-dyukova-akimova-borisa-rotenberga-dokument-20220406-190347',\n",
       " 'finam.ru//publications/item/sobytiya-predstoyashego-dnya-transneft-opublikuet-otchetnost-po-msfo-za-2021-god-20220328-210339',\n",
       " 'finam.ru//publications/item/pao-gazprom-neft---vneocherednoe-obshchee-sobranie-20220328-115918',\n",
       " 'finam.ru//publications/item/opek-predupredila-es-ob-usherbe-kotoryiy-naneset-potrebitelyam-zapret-nefti-iz-rossii-smi-20220324-161928',\n",
       " 'finam.ru//publications/item/pao-gazprom-neft---vneocherednoe-obshchee-sobranie-20220324-120639',\n",
       " 'finam.ru//publications/item/sobytiya-predstoyashego-dnya-raspadskaya-opublikuet-finansovye-rezultaty-za-2021-god-20220322-210412',\n",
       " 'finam.ru//publications/item/sobytiya-predstoyashix-dneiy-proiydet-sovet-direktorov-gazproma-20220321-210557',\n",
       " 'finam.ru//publications/item/kabmin-budet-sledit-za-dobycheiy-nefti-v-rf-v-svyazi-s-uxodom-inostrannogo-nefteservisa-20220321-151407',\n",
       " 'finam.ru//publications/item/gazprom-neft-razvivaet-proizvodstvo-komponentov-dlya-vypuska-stali-20220321-111005',\n",
       " 'finam.ru/news/item/-gazprom-neft-vyplatila-devyatyy-kupon-po-obligatsiam-serii-003p-02r',\n",
       " 'finam.ru//publications/item/novye-sanktsii-v-energetike-udarili-ne-po-rf-i-evrosoyuzu-a-po-serbii---vuchich-20220316-164943',\n",
       " 'finam.ru//publications/item/es-zapretil-sdelki-s-rosneftyu-gazprom-neftyu-kamazom-transneftyu---dokument-20220316-081903',\n",
       " 'finam.ru//publications/item/es-sobiraetsya-vvesti-novye-sanktsii-protiv-rosnefti-transnefti-gazprom-nefti---smi-20220314-174631',\n",
       " 'finam.ru//publications/item/pao-gazprom-neft---vneocherednoe-obshchee-sobranie-20220314-130338',\n",
       " 'finam.ru//publications/item/sobytia-predstoyashchikh-dney-rusal-provedet-vosa-20220311-213003',\n",
       " 'finam.ru//publications/item/sobytia-predstoyashchego-dnya-tgk-1-opublikuet-otchetnost-po-msfo-za-2021-god-20220310-212535',\n",
       " 'finam.ru/news/item/-gazprom-neft-vyplatila-vosmoy-kupon-po-obligatsiam-serii-001p-06r',\n",
       " 'finam.ru//publications/item/v-spisok-kandidatov-v-sovet-direktorov-gazprom-nefti-vkliucheny-14-chelovek-20220309-222635',\n",
       " 'finam.ru//publications/item/sobytiya-predstoyashix-dneiy-proiydut-zasedaniya-sovetov-direktorov-gazprom-nefti-inter-rao-esefaiy-20220304-210300',\n",
       " 'finam.ru//publications/item/shell-reshila-vyiyti-iz-sp-s-gazpromom-i-prekratit-uchastie-v-severnom-potoke-2-20220228-212400',\n",
       " 'finam.ru//publications/item/sobytiya-predstoyashix-dneiy-rusgidro-i-polyus-otchitayutsya-za-2021-god-20220228-210300',\n",
       " 'finam.ru//publications/item/sobytiya-predstoyashix-dneiy-mmk-opublikuet-finrezultaty-za-4-kvartal-2021-goda-20220225-210300',\n",
       " 'finam.ru/news/item/ssha-vveli-ogranichenie-na-privlechenie-sredstv-13-krupneiyshimi-kompaniyami-rf',\n",
       " 'finam.ru//publications/item/sobytiya-predstoyashego-dnya-evraz-opublikuet-otchetnost-za-2021-god-proiydet-vosa-akrona-20220224-210600',\n",
       " 'finam.ru//publications/item/akcii-gazprom-nefti-privlekatelny-dlya-pokupki-20220222-194000',\n",
       " 'finam.ru//publications/item/mosbirzha-povysila-verxnyuyu-granicu-cenovogo-koridora-akciiy-gazprom-nefti-20220222-172400',\n",
       " 'finam.ru//publications/item/gazprom-neft-uvelichivaet-zapravku-ekologichnym-toplivom-sudov-nornikelya-20220221-163800',\n",
       " 'finam.ru//publications/item/pribyl-gazprom-nefti-polnostyu-sovpala-s-ozhidaniyami-i-konsensus-prognozom-20220218-1320',\n",
       " 'finam.ru//publications/item/silnye-rezultaty-pozvolyayut-gazprom-nefti-uvelichivat-dividendnye-vyplaty-20220218-114000',\n",
       " 'finam.ru//publications/item/organicheskiiy-rost-gazproma-v-2022-godu-mozhet-stat-samym-vysokim-za-vsyu-istoriyu-kompanii-20220218-103000',\n",
       " 'finam.ru//publications/item/gazprom-neft-namerena-privlech-zelenoe-finansirovanie-dlya-proektov-v-sfere-pererabotki-20220217-183330',\n",
       " 'finam.ru//publications/item/gazprom-neft-planiruet-vyplachivat-dividendy-v-razmere-ne-menee-50-chistoiy-pribyli-20220217-181920',\n",
       " 'finam.ru//publications/item/gazprom-neft-planiruet-rost-dobychi-bolee-chem-na-10-v-2022-godu-20220217-181232',\n",
       " 'finam.ru//publications/item/potencialnym-katalizatorom-stoimosti-akciiy-gazprom-nefti-budet-predstoyashee-obnovlenie-dolgosrochnoiy-strategii-2035-20220217-160000',\n",
       " 'finam.ru//publications/item/gazprom-neft-v-2021-godu-uvelichila-realizaciyu-premialnyx-masel-na-8-20220217-144534',\n",
       " 'finam.ru//publications/item/chistaya-pribyl-gazprom-nefti-za-2021-god-dostigla-istoricheskogo-maksimuma-20220217-143000',\n",
       " 'finam.ru//publications/item/bolshoiy-fcf-gazprom-nefti-pozvolit-vyplatit-rekordnye-dividendy-po-itogam-2021-goda-20220217-114000',\n",
       " 'finam.ru//publications/item/kapvlozheniya-gazprom-nefti-vozrosli-v-2021-godu-na-6-8-20220217-111340',\n",
       " 'finam.ru//publications/item/gazprom-neft-prodolzhaet-uluchshat-finansovye-pokazateli-20220217-111200',\n",
       " 'finam.ru//publications/item/gazprom-neft-planiruet-soxranyat-praktiku-vyplaty-promezhutochnyx-dividendov-20220217-110006',\n",
       " 'finam.ru//publications/item/chistaya-pribyl-gazprom-nefti-v-2021-godu-dostigla-rekorda-v-503-4-mlrd-rubleiy-20220217-100538',\n",
       " 'finam.ru//publications/item/gazprom-neft-vospolnila-dobychu-novymi-zapasami-v-2021-godu-na-283-20220217-093908',\n",
       " 'finam.ru//publications/item/sobytiya-predstoyashego-dnya-gazprom-i-gazprom-neft-opublikuyut-finrezultaty-za-2021-god-20220216-210208',\n",
       " 'finam.ru//publications/item/chistaya-pribyl-gazprom-nefti-po-rsbu-vyrosla-vdvoe-v-2021-godu-20220216-202117',\n",
       " 'finam.ru/landings/stickers',\n",
       " 'finam.ru/home/contacts',\n",
       " 'finam.ru/home/affiliate',\n",
       " 'finam.ru/about/partnership',\n",
       " 'finam.ru/landings/faq',\n",
       " 'finam.ru/about',\n",
       " 'finam.ru/about/tenders',\n",
       " 'finam.ru/landings/press',\n",
       " 'finam.ru/about/copyright',\n",
       " 'finam.ru/rsspoint/list',\n",
       " 'finam.ru/about/quotes',\n",
       " 'finam.ru///finam.ru']"
      ]
     },
     "execution_count": 5,
     "metadata": {},
     "output_type": "execute_result"
    }
   ],
   "source": [
    "links"
   ]
  }
 ],
 "metadata": {
  "kernelspec": {
   "display_name": "Python 3 (ipykernel)",
   "language": "python",
   "name": "python3"
  },
  "language_info": {
   "codemirror_mode": {
    "name": "ipython",
    "version": 3
   },
   "file_extension": ".py",
   "mimetype": "text/x-python",
   "name": "python",
   "nbconvert_exporter": "python",
   "pygments_lexer": "ipython3",
   "version": "3.9.7"
  }
 },
 "nbformat": 4,
 "nbformat_minor": 5
}
