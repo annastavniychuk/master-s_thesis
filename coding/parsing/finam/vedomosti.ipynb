{
 "cells": [
  {
   "cell_type": "code",
   "execution_count": 2,
   "id": "315e84b6",
   "metadata": {},
   "outputs": [],
   "source": [
    "import requests\n",
    "from bs4 import BeautifulSoup as bs\n",
    "import pandas as pd \n",
    "from time import sleep"
   ]
  },
  {
   "cell_type": "code",
   "execution_count": 41,
   "id": "8a014051",
   "metadata": {},
   "outputs": [
    {
     "data": {
      "text/plain": [
       "'https://www.vedomosti.ru/search?query=Лукойл&sort=date&date_from=2012-01-01&date_to=2022-01-01&from=0'"
      ]
     },
     "execution_count": 41,
     "metadata": {},
     "output_type": "execute_result"
    }
   ],
   "source": [
    "template_url = 'https://www.vedomosti.ru/search?'\n",
    "company = 'Лукойл'\n",
    "start_date = '2012-01-01'\n",
    "end_date = '2022-01-01' \n",
    "sort = 'date'\n",
    "page = '0'\n",
    "url = template_url + 'query=' + company + '&sort=' + sort + '&date_from=' + start_date + '&date_to=' + end_date + '&from=' + page\n",
    "base_url = template_url + company + '/news/' # чтобы запихнуть в requests\n",
    "url"
   ]
  },
  {
   "cell_type": "code",
   "execution_count": 66,
   "id": "2c614f54",
   "metadata": {},
   "outputs": [],
   "source": [
    "resp = requests.get(base_url, \n",
    "                    params={'query': company,\n",
    "                            'sort': sort,\n",
    "                            'date_from': start_date,\n",
    "                            'date_to': end_date,\n",
    "                            'from': page})\n",
    "soup = bs(resp.text)"
   ]
  },
  {
   "cell_type": "code",
   "execution_count": 70,
   "id": "8df6106c",
   "metadata": {},
   "outputs": [
    {
     "ename": "AttributeError",
     "evalue": "'NoneType' object has no attribute 'find_all'",
     "output_type": "error",
     "traceback": [
      "\u001b[0;31m---------------------------------------------------------------------------\u001b[0m",
      "\u001b[0;31mAttributeError\u001b[0m                            Traceback (most recent call last)",
      "\u001b[0;32m/var/folders/hh/gpycq5nx1056dfjxwqsbk4qc0000gn/T/ipykernel_37125/2702729852.py\u001b[0m in \u001b[0;36m<module>\u001b[0;34m\u001b[0m\n\u001b[0;32m----> 1\u001b[0;31m \u001b[0mpages\u001b[0m \u001b[0;34m=\u001b[0m \u001b[0msoup\u001b[0m\u001b[0;34m.\u001b[0m\u001b[0mfind\u001b[0m\u001b[0;34m(\u001b[0m\u001b[0;34m'div'\u001b[0m\u001b[0;34m,\u001b[0m \u001b[0;34m{\u001b[0m\u001b[0;34m'class'\u001b[0m\u001b[0;34m:\u001b[0m \u001b[0;34m'search-page__sort'\u001b[0m\u001b[0;34m}\u001b[0m\u001b[0;34m)\u001b[0m\u001b[0;34m.\u001b[0m\u001b[0mfind_all\u001b[0m\u001b[0;34m(\u001b[0m\u001b[0;34m'li'\u001b[0m\u001b[0;34m)\u001b[0m\u001b[0;34m[\u001b[0m\u001b[0;34m-\u001b[0m\u001b[0;36m1\u001b[0m\u001b[0;34m]\u001b[0m\u001b[0;34m\u001b[0m\u001b[0;34m\u001b[0m\u001b[0m\n\u001b[0m\u001b[1;32m      2\u001b[0m \u001b[0mpages\u001b[0m\u001b[0;34m\u001b[0m\u001b[0;34m\u001b[0m\u001b[0m\n",
      "\u001b[0;31mAttributeError\u001b[0m: 'NoneType' object has no attribute 'find_all'"
     ]
    }
   ],
   "source": [
    "pages = soup.find('div', {'class': 'search-page__sort'}).find_all('li')[-1]\n",
    "pages"
   ]
  },
  {
   "cell_type": "code",
   "execution_count": null,
   "id": "e89ebfa6",
   "metadata": {},
   "outputs": [],
   "source": [
    "<div class=\"search-page__sort\"><span>Сортировать:</span> <ul class=\"b-tabs\"><li class=\"b-tabs__tab b-tabs__tab--active\"><span>По дате</span></li><li class=\"b-tabs__tab\"><span>По релевантности</span></li></ul></div>\n",
    "    \n",
    "    \n",
    "    \n",
    "    "
   ]
  },
  {
   "cell_type": "code",
   "execution_count": null,
   "id": "8b11a155",
   "metadata": {},
   "outputs": [],
   "source": [
    ".find_all('li')[-2].text.split('...')[-1]"
   ]
  },
  {
   "cell_type": "code",
   "execution_count": null,
   "id": "0ad87e17",
   "metadata": {},
   "outputs": [],
   "source": [
    "<div class=\"search-page__found\">\n",
    "          Найдено: 4607 <span>результатов</span></div>"
   ]
  },
  {
   "cell_type": "code",
   "execution_count": 47,
   "id": "9340f01e",
   "metadata": {},
   "outputs": [
    {
     "data": {
      "text/plain": [
       "'https://www.finam.ru/profile/moex-akcii/rosneft/news/?start-date=2012-01-01&end-date=2021-08-14&page=1'"
      ]
     },
     "execution_count": 47,
     "metadata": {},
     "output_type": "execute_result"
    }
   ],
   "source": [
    "template_url = 'https://www.finam.ru/profile/moex-akcii/'\n",
    "company = 'rosneft'\n",
    "start_date = '2012-01-01'\n",
    "end_date = '2021-08-14' \n",
    "page = '1'\n",
    "url = template_url + company + '/news/?start-date=' + start_date + '&end-date=' + end_date + '&page=1'\n",
    "base_url = template_url + company + '/news/' # чтобы запихнуть в requests\n",
    "url"
   ]
  },
  {
   "cell_type": "code",
   "execution_count": null,
   "id": "6750418d",
   "metadata": {},
   "outputs": [],
   "source": [
    "resp = requests.get(base_url, \n",
    "                    params={'start-date': start_date,\n",
    "                            'end-date': end_date,\n",
    "                            'page': page})\n",
    "soup = bs(resp.text)\n",
    "pages = soup.find('div', {'class': 'pager'}).find_all('li')[-2].text.split('...')[-1]\n",
    "pages"
   ]
  }
 ],
 "metadata": {
  "kernelspec": {
   "display_name": "Python 3 (ipykernel)",
   "language": "python",
   "name": "python3"
  },
  "language_info": {
   "codemirror_mode": {
    "name": "ipython",
    "version": 3
   },
   "file_extension": ".py",
   "mimetype": "text/x-python",
   "name": "python",
   "nbconvert_exporter": "python",
   "pygments_lexer": "ipython3",
   "version": "3.9.7"
  }
 },
 "nbformat": 4,
 "nbformat_minor": 5
}
